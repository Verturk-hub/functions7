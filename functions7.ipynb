{
 "cells": [
  {
   "cell_type": "code",
   "execution_count": 9,
   "source": [
    "def extract (filename):\r\n",
    "    return filename[-3:]"
   ],
   "outputs": [],
   "metadata": {}
  },
  {
   "cell_type": "code",
   "execution_count": 10,
   "source": [
    "filenames='hazel.png'\r\n",
    "print(extract(filename))"
   ],
   "outputs": [
    {
     "output_type": "stream",
     "name": "stdout",
     "text": [
      "jpg\n"
     ]
    }
   ],
   "metadata": {}
  },
  {
   "cell_type": "code",
   "execution_count": 11,
   "source": [
    "filenames='edgedhazel.jpg'\r\n",
    "print(extract(filename))"
   ],
   "outputs": [
    {
     "output_type": "stream",
     "name": "stdout",
     "text": [
      "jpg\n"
     ]
    }
   ],
   "metadata": {}
  },
  {
   "cell_type": "code",
   "execution_count": 12,
   "source": [
    "def extract (filename):\r\n",
    "    return filename.split('.')[-1]\r\n",
    "\r\n",
    "print(extract(filename))"
   ],
   "outputs": [
    {
     "output_type": "stream",
     "name": "stdout",
     "text": [
      "jpg\n"
     ]
    }
   ],
   "metadata": {}
  },
  {
   "cell_type": "code",
   "execution_count": 20,
   "source": [
    "filenames = ['hazel.png', 'hazel.jpg', 'Ramadan.zip']"
   ],
   "outputs": [],
   "metadata": {}
  },
  {
   "cell_type": "code",
   "execution_count": 21,
   "source": [
    "for file in filenames:\r\n",
    "    if file.endswith('zip'):\r\n",
    "        print(f'{file} is a zip file')\r\n",
    "    else:\r\n",
    "        print(f'{file} is NOT a zip file')"
   ],
   "outputs": [
    {
     "output_type": "stream",
     "name": "stdout",
     "text": [
      "hazel.png is NOT a zip file\n",
      "hazel.jpg is NOT a zip file\n",
      "Ramadan.zip is a zip file\n"
     ]
    }
   ],
   "metadata": {}
  },
  {
   "cell_type": "code",
   "execution_count": 24,
   "source": [
    "for files in filenames:\r\n",
    "    if files.split('.')[-1] == 'zip':\r\n",
    "        print(f'{files} is a zip file')\r\n",
    "    else:\r\n",
    "        print(f'{files} is NOT a zip file')"
   ],
   "outputs": [
    {
     "output_type": "stream",
     "name": "stdout",
     "text": [
      "hazel.png is NOT a zip file\n",
      "hazel.jpg is NOT a zip file\n",
      "Ramadan.zip is a zip file\n"
     ]
    }
   ],
   "metadata": {}
  }
 ],
 "metadata": {
  "orig_nbformat": 4,
  "language_info": {
   "name": "python",
   "version": "3.8.3",
   "mimetype": "text/x-python",
   "codemirror_mode": {
    "name": "ipython",
    "version": 3
   },
   "pygments_lexer": "ipython3",
   "nbconvert_exporter": "python",
   "file_extension": ".py"
  },
  "kernelspec": {
   "name": "python3",
   "display_name": "Python 3.8.3 64-bit ('base': conda)"
  },
  "interpreter": {
   "hash": "46182d5f787c7496ac3d2ccd0c5d8bf41bffd3ac5e5e93146af501a7f382c533"
  }
 },
 "nbformat": 4,
 "nbformat_minor": 2
}